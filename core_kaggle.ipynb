{
 "cells": [
  {
   "cell_type": "markdown",
   "metadata": {},
   "source": [
    "# Dataset"
   ]
  },
  {
   "cell_type": "code",
   "execution_count": null,
   "metadata": {
    "_cell_guid": "b1076dfc-b9ad-4769-8c92-a6c4dae69d19",
    "_uuid": "8f2839f25d086af736a60e9eeb907d3b93b6e0e5"
   },
   "outputs": [],
   "source": [
    "from tqdm import tqdm\n",
    "import numpy as np\n",
    "import pandas as pd\n",
    "\n",
    "raw = pd.read_csv('.../Progetto_Chris/Coding_Chris/Data_Kaggle/train.csv', dtype={'acoustic_data': np.int16, 'time_to_failure': np.float64})\n"
   ]
  },
  {
   "cell_type": "code",
   "execution_count": null,
   "metadata": {},
   "outputs": [
    {
     "name": "stdout",
     "output_type": "stream",
     "text": [
      "<class 'pandas.core.frame.DataFrame'>\n",
      "RangeIndex: 629145480 entries, 0 to 629145479\n",
      "Data columns (total 2 columns):\n",
      " #   Column           Dtype  \n",
      "---  ------           -----  \n",
      " 0   acoustic_data    int16  \n",
      " 1   time_to_failure  float64\n",
      "dtypes: float64(1), int16(1)\n",
      "memory usage: 5.9 GB\n"
     ]
    }
   ],
   "source": [
    "raw.info()"
   ]
  },
  {
   "cell_type": "markdown",
   "metadata": {},
   "source": [
    "raw.shape, raw.head()"
   ]
  },
  {
   "cell_type": "code",
   "execution_count": null,
   "metadata": {},
   "outputs": [
    {
     "data": {
      "text/plain": [
       "acoustic_data      0\n",
       "time_to_failure    0\n",
       "dtype: int64"
      ]
     },
     "execution_count": 8,
     "metadata": {},
     "output_type": "execute_result"
    }
   ],
   "source": [
    "raw.isnull().sum()"
   ]
  },
  {
   "cell_type": "code",
   "execution_count": null,
   "metadata": {},
   "outputs": [
    {
     "name": "stdout",
     "output_type": "stream",
     "text": [
      "       acoustic_data  time_to_failure\n",
      "count   6.291455e+08     6.291455e+08\n",
      "mean    4.519468e+00     5.678292e+00\n",
      "std     1.073571e+01     3.672697e+00\n",
      "min    -5.515000e+03     9.550396e-05\n",
      "25%     2.000000e+00     2.625997e+00\n",
      "50%     5.000000e+00     5.349798e+00\n",
      "75%     7.000000e+00     8.173396e+00\n",
      "max     5.444000e+03     1.610740e+01\n"
     ]
    },
    {
     "data": {
      "text/plain": [
       "'\\nLa media del segnale acustico è di circa 4.52, suggerendo che in media il valore tende a essere positivo ma vicino a zero.\\nLa deviazione standard è circa 10.74, indicando una varianza significativa nei valori di acoustic_data, con potenziali fluttuazioni ampie dal valore medio.\\n\\nI quartili mostrano che il 50% dei dati (mediana) è 5, con il 25% dei dati che sono 2 o meno e il 75% dei dati che sono 7 o meno, confermando la \\nconcentrazione della maggior parte dei dati attorno al valore medio con alcune ampie deviazioni occasionali.\\n'"
      ]
     },
     "execution_count": 9,
     "metadata": {},
     "output_type": "execute_result"
    }
   ],
   "source": [
    "print(raw.describe())\n",
    "\n",
    "\"\"\"\n",
    "La media del segnale acustico è di circa 4.52, suggerendo che in media il valore tende a essere positivo ma vicino a zero.\n",
    "La deviazione standard è circa 10.74, indicando una varianza significativa nei valori di acoustic_data, con potenziali fluttuazioni ampie dal valore medio.\n",
    "\n",
    "I quartili mostrano che il 50% dei dati (mediana) è 5, con il 25% dei dati che sono 2 o meno e il 75% dei dati che sono 7 o meno, confermando la \n",
    "concentrazione della maggior parte dei dati attorno al valore medio con alcune ampie deviazioni occasionali.\n",
    "\"\"\""
   ]
  },
  {
   "cell_type": "markdown",
   "metadata": {},
   "source": [
    "## Acoustic data"
   ]
  },
  {
   "cell_type": "code",
   "execution_count": null,
   "metadata": {},
   "outputs": [
    {
     "name": "stdout",
     "output_type": "stream",
     "text": [
      "5354\n",
      "-5515\n",
      "5444\n"
     ]
    },
    {
     "data": {
      "text/plain": [
       "\"\\ndataset['acoustic_data'] contains 5354 unique values, which are in between -5515 and 5444\\n\""
      ]
     },
     "execution_count": 10,
     "metadata": {},
     "output_type": "execute_result"
    }
   ],
   "source": [
    "print(len(raw['acoustic_data'].unique()))\n",
    "print(min(raw['acoustic_data'].unique()))\n",
    "print(max(raw['acoustic_data'].unique()))\n",
    "\n",
    "\"\"\"\n",
    "dataset['acoustic_data'] contains 5354 unique values, which are in between -5515 and 5444\n",
    "\"\"\""
   ]
  },
  {
   "cell_type": "code",
   "execution_count": null,
   "metadata": {},
   "outputs": [
    {
     "name": "stdout",
     "output_type": "stream",
     "text": [
      "acoustic_data\n",
      " 5       73883469\n",
      " 4       73792388\n",
      " 6       66416269\n",
      " 3       66178259\n",
      " 7       53817385\n",
      "           ...   \n",
      "-3113           1\n",
      "-3277           1\n",
      "-3120           1\n",
      "-2197           1\n",
      "-1843           1\n",
      "Name: count, Length: 5354, dtype: int64\n"
     ]
    },
    {
     "data": {
      "text/plain": [
       "'\\nI numeri alla sinistra rappresentano i valori unici nella colonna acoustic_data, mentre i numeri alla destra \\nindicano quante volte ciascun valore appare nel DataFrame. Ad esempio, il valore 5 appare 73,883,469 volte.\\n\\nNotiamo che I valori che appaiono più frequentemente sono tipicamente vicini a zero (5, 4, 6, 3, 7, …), \\nil che potrebbe indicare una concentrazione di dati attorno a questi punti.\\n\\nI valori nell’acoustic_data variano notevolmente, con alcuni valori estremi come -3113, -3277, \\nche compaiono una sola volta. Questo suggerisce che il segnale acustico può avere occasionali picchi o cadute estreme.\\n'"
      ]
     },
     "execution_count": 11,
     "metadata": {},
     "output_type": "execute_result"
    }
   ],
   "source": [
    "print(raw['acoustic_data'].value_counts())\n",
    "\n",
    "\"\"\"\n",
    "I numeri alla sinistra rappresentano i valori unici nella colonna acoustic_data, mentre i numeri alla destra \n",
    "indicano quante volte ciascun valore appare nel DataFrame. Ad esempio, il valore 5 appare 73,883,469 volte.\n",
    "\n",
    "Notiamo che I valori che appaiono più frequentemente sono tipicamente vicini a zero (5, 4, 6, 3, 7, …), \n",
    "il che potrebbe indicare una concentrazione di dati attorno a questi punti.\n",
    "\n",
    "I valori nell’acoustic_data variano notevolmente, con alcuni valori estremi come -3113, -3277, \n",
    "che compaiono una sola volta. Questo suggerisce che il segnale acustico può avere occasionali picchi o cadute estreme.\n",
    "\"\"\""
   ]
  },
  {
   "cell_type": "code",
   "execution_count": null,
   "metadata": {},
   "outputs": [
    {
     "data": {
      "image/png": "[encoded data removed]",
      "text/plain": [
       "<Figure size 640x480 with 1 Axes>"
      ]
     },
     "metadata": {},
     "output_type": "display_data"
    }
   ],
   "source": [
    "# Let's check out intuition\n",
    "\n",
    "# istogramma distribuzione dei valori di acoustic_data\n",
    "import matplotlib.pyplot as plt\n",
    "plt.hist(raw['acoustic_data'], bins=100, range=[-500, 500])  # Limita l'intervallo per una visualizzazione focalizzata\n",
    "plt.title('Distribution of Acoustic Data')\n",
    "plt.xlabel('Acoustic Data')\n",
    "plt.ylabel('Frequency')\n",
    "plt.show()"
   ]
  },
  {
   "cell_type": "code",
   "execution_count": null,
   "metadata": {},
   "outputs": [
    {
     "data": {
      "image/png": "[encoded data removed]",
      "text/plain": [
       "<Figure size 640x480 with 1 Axes>"
      ]
     },
     "metadata": {},
     "output_type": "display_data"
    }
   ],
   "source": [
    "# more zoomed in (around the mean circa)\n",
    "\n",
    "plt.hist(raw['acoustic_data'], bins=100, range=[-5, 15])  # attorno alla media circa\n",
    "plt.title('Distribution of Acoustic Data')\n",
    "plt.xlabel('Acoustic Data')\n",
    "plt.ylabel('Frequency')\n",
    "plt.show()"
   ]
  },
  {
   "cell_type": "code",
   "execution_count": null,
   "metadata": {},
   "outputs": [
    {
     "data": {
      "image/png": "[encoded data removed]",
      "text/plain": [
       "<Figure size 1000x500 with 1 Axes>"
      ]
     },
     "metadata": {},
     "output_type": "display_data"
    },
    {
     "data": {
      "text/plain": [
       "'\\nPicco Significativo: \\nIl picco notevole nei dati acustici intorno a 0.3 secondi prima del fallimento suggerisce un evento acustico estremamente alto, \\nche potrebbe essere dovuto a una rottura o a uno stress critico nel materiale o nell’ambiente studiato. Questo picco potrebbe \\nrappresentare il punto in cui le tensioni interne raggiungono un livello critico che precede immediatamente il collasso o il fallimento.\\n\\nQuasi Silenzio Post Picco: \\nDopo questo picco, i dati mostrano una notevole riduzione dell’attività acustica. \\nQuesto “quasi silenzio” potrebbe indicare che dopo la rottura iniziale o lo stress critico, \\nci sono meno movimenti o meno interazioni tra le parti coinvolte, risultando in minori emissioni acustiche. \\nQuesto periodo di quiete potrebbe durare fino al momento del fallimento effettivo, suggerendo che il danno critico è già avvenuto.\\n'"
      ]
     },
     "execution_count": 14,
     "metadata": {},
     "output_type": "execute_result"
    }
   ],
   "source": [
    "# visualizzazione acoustic data vicino ai terremoti\n",
    "\n",
    "# Soglia per 'time_to_failure' considerata vicina a un evento critico\n",
    "threshold = 0.7  # 0.7 sec prima del terremoto\n",
    "\n",
    "# Filtra i dati dove 'time_to_failure' è inferiore alla soglia\n",
    "critical_raw = raw[raw['time_to_failure'] <= threshold]\n",
    "\n",
    "# Plottare i dati critici\n",
    "plt.figure(figsize=(10, 5))\n",
    "plt.plot(critical_raw['time_to_failure'], critical_raw['acoustic_data'], marker='o', linestyle='-', color='r')\n",
    "plt.title('Acoustic Data when Time to Failure is very close to zero')\n",
    "plt.xlabel('Time to failure')\n",
    "plt.ylabel('Acoustic Signal')\n",
    "plt.grid(True)\n",
    "plt.show()\n",
    "\n",
    "\n",
    "\"\"\"\n",
    "Picco Significativo: \n",
    "Il picco notevole nei dati acustici intorno a 0.3 secondi prima del fallimento suggerisce un evento acustico estremamente alto, \n",
    "che potrebbe essere dovuto a una rottura o a uno stress critico nel materiale o nell’ambiente studiato. Questo picco potrebbe \n",
    "rappresentare il punto in cui le tensioni interne raggiungono un livello critico che precede immediatamente il collasso o il fallimento.\n",
    "\n",
    "Quasi Silenzio Post Picco: \n",
    "Dopo questo picco, i dati mostrano una notevole riduzione dell’attività acustica. \n",
    "Questo “quasi silenzio” potrebbe indicare che dopo la rottura iniziale o lo stress critico, \n",
    "ci sono meno movimenti o meno interazioni tra le parti coinvolte, risultando in minori emissioni acustiche. \n",
    "Questo periodo di quiete potrebbe durare fino al momento del fallimento effettivo, suggerendo che il danno critico è già avvenuto.\n",
    "\"\"\""
   ]
  },
  {
   "cell_type": "code",
   "execution_count": null,
   "metadata": {},
   "outputs": [
    {
     "data": {
      "image/png": "[encoded data removed]",
      "text/plain": [
       "<Figure size 1000x500 with 1 Axes>"
      ]
     },
     "metadata": {},
     "output_type": "display_data"
    }
   ],
   "source": [
    "# visualizzazione di tutti gli acoustic data \n",
    "\n",
    "# Soglia per 'time_to_failure' \n",
    "threshold = 16  # 16 sec prima del terremoto, praticamente tutti \n",
    "\n",
    "# Filtra i dati dove 'time_to_failure' è inferiore alla soglia\n",
    "critical_raw = raw[raw['time_to_failure'] <= threshold]\n",
    "\n",
    "# Plottare i dati critici\n",
    "plt.figure(figsize=(10, 5))\n",
    "plt.plot(critical_raw['time_to_failure'], critical_raw['acoustic_data'], marker='o', linestyle='-', color='r')\n",
    "plt.title('Acoustic Data when Time to Failure is very close to zero')\n",
    "plt.xlabel('Time to failure')\n",
    "plt.ylabel('Acoustic Signal')\n",
    "plt.grid(True)\n",
    "plt.show()"
   ]
  },
  {
   "cell_type": "markdown",
   "metadata": {},
   "source": [
    "cosa signfica quando acustic signal è negativo? cosa indica acoustic signal? Non indica il suono, perché come fa il suono ad essere negativo?"
   ]
  },
  {
   "cell_type": "markdown",
   "metadata": {},
   "source": [
    "## Time to failure"
   ]
  },
  {
   "cell_type": "code",
   "execution_count": null,
   "metadata": {},
   "outputs": [
    {
     "name": "stdout",
     "output_type": "stream",
     "text": [
      "16.1074\n",
      "9.5503963166e-05\n"
     ]
    },
    {
     "ename": "",
     "evalue": "",
     "output_type": "error",
     "traceback": [
      "\u001b[1;31mThe Kernel crashed while executing code in the current cell or a previous cell. \n",
      "\u001b[1;31mPlease review the code in the cell(s) to identify a possible cause of the failure. \n",
      "\u001b[1;31mClick <a href='https://aka.ms/vscodeJupyterKernelCrash'>here</a> for more info. \n",
      "\u001b[1;31mView Jupyter <a href='command:jupyter.viewOutput'>log</a> for further details."
     ]
    }
   ],
   "source": [
    "print(raw['time_to_failure'].max()) \n",
    "print(raw['time_to_failure'].min())\n",
    "\n",
    "# max time until an earthquake is 16.1074 seconds"
   ]
  },
  {
   "cell_type": "code",
   "execution_count": null,
   "metadata": {},
   "outputs": [
    {
     "name": "stdout",
     "output_type": "stream",
     "text": [
      "(629145480,)\n",
      "(629145480,)\n"
     ]
    }
   ],
   "source": [
    "# visualizziamo time to failure in tutto il dataset\n",
    "\n",
    "x_axis = np.arange(raw.shape[0])\n",
    "y_axis = raw['time_to_failure']\n",
    "\n",
    "print(x_axis.shape)\n",
    "print(y_axis.shape)\n",
    "\n",
    "plt.figure(figsize=(10, 5))\n",
    "plt.plot(x_axis, y_axis)\n",
    "plt.title(f'Acoustic Data around the {i}-th Earthquake')\n",
    "plt.xlabel('Time to failure')\n",
    "plt.ylabel('Acoustic Signal')\n",
    "plt.grid(True)\n",
    "plt.show() "
   ]
  },
  {
   "cell_type": "code",
   "execution_count": null,
   "metadata": {},
   "outputs": [],
   "source": [
    "# visualizzare un unico terremoto. \n",
    "\n",
    "import matplotlib.pyplot as plt\n",
    "import pandas as pd\n",
    "import numpy as np\n",
    "\n",
    "# Simulazione di un DataFrame (sostituire con il tuo effettivo DataFrame 'raw')\n",
    "\n",
    "# Soglia per 'time_to_failure' considerata vicina a un evento critico\n",
    "threshold = 0.7  # 0.7 sec prima del terremoto\n",
    "\n",
    "# Identifica gli indici dove 'time_to_failure' è minimo (i.e., poco prima di un terremoto)\n",
    "reset_indices = raw[raw['time_to_failure'].diff() < 0].index\n",
    "\n",
    "# Numero del terremoto da visualizzare (es. il primo, secondo, terzo, ecc.)\n",
    "i = 3  # Cambiare questo valore in base al terremoto specifico che vuoi visualizzare\n",
    "\n",
    "# Assicurarsi che l'indice 'i' sia valido\n",
    "if i <= len(reset_indices) and i > 0:\n",
    "    # Indice del terremoto\n",
    "    earthquake_index = reset_indices[i-1]\n",
    "\n",
    "    # Seleziona i dati intorno al terremoto specifico\n",
    "    window_size = 50  # Numero di campioni prima e dopo il terremoto da visualizzare\n",
    "    data_slice = raw.loc[max(0, earthquake_index-window_size):earthquake_index+window_size]\n",
    "\n",
    "    # Plottare i dati critici\n",
    "    plt.figure(figsize=(10, 5))\n",
    "    plt.plot(data_slice['time_to_failure'], data_slice['acoustic_data'], marker='o', linestyle='-', color='r')\n",
    "    plt.title(f'Acoustic Data around the {i}-th Earthquake')\n",
    "    plt.xlabel('Time to failure')\n",
    "    plt.ylabel('Acoustic Signal')\n",
    "    plt.grid(True)\n",
    "    plt.show()\n",
    "else:\n",
    "    print(f\"Earthquake index {i} is out of bounds. Only {len(reset_indices)} resets found.\")"
   ]
  },
  {
   "cell_type": "markdown",
   "metadata": {},
   "source": [
    "# Preprocessing"
   ]
  },
  {
   "cell_type": "code",
   "execution_count": 3,
   "metadata": {},
   "outputs": [],
   "source": [
    "np.random.seed(1337) # reproducibility\n",
    "chosen_noise = np.random.normal(0, 0.5, 150_000)"
   ]
  },
  {
   "cell_type": "code",
   "execution_count": 4,
   "metadata": {},
   "outputs": [],
   "source": [
    "from utils_preprocessing import *"
   ]
  },
  {
   "cell_type": "code",
   "execution_count": 5,
   "metadata": {},
   "outputs": [],
   "source": [
    "segment_size = 150_000\n",
    "\n",
    "# indices_to_calculate di default è solo l'indice zero (cioè se non vogliamo spezzare il fenomeno)\n",
    "\n",
    "indices_to_calculate = raw.index.values[::segment_size][:-1]\n",
    "# ritorna una array numpy contenente indici iniziali per dividere il dataset raw \n",
    "# (pandas dataframe) in segmenti di lunghezza 150000\n",
    "# [::150_000] Applica uno slicing all’array degli indici, selezionando ogni 150,000-esimo valore.\n",
    "# [:-1] Esclude l’ultimo valore dall’array ottenuto.\n",
    "# L’ultimo indice viene escluso per evitare un errore quando si cerca di creare un segmento che eccede la lunghezza del dataset.\n",
    "\n",
    "\"\"\"\n",
    "In particolare, raw.index.values ritorna un array NumPy degli indici del DataFrame raw.\n",
    "Ad esempio: \n",
    "\n",
    "Supponiamo che il DataFrame raw abbia 600,000 righe con indici  0, 1, 2, ..., 599,999\n",
    "raw = pd.DataFrame({'acoustic_data': np.random.randn(600_000)})\n",
    "print(raw.index.values)\n",
    ">>> [     0      1      2 ... 599997 599998 599999]\n",
    "\n",
    "print(raw.index.values[::150_000])\n",
    ">>> [     0 150000 300000 450000]\n",
    "\n",
    "\"\"\"\n",
    "pass"
   ]
  },
  {
   "cell_type": "code",
   "execution_count": 6,
   "metadata": {},
   "outputs": [
    {
     "name": "stderr",
     "output_type": "stream",
     "text": [
      "100%|██████████| 4194/4194 [00:26<00:00, 156.52it/s]\n",
      "100%|██████████| 2624/2624 [00:17<00:00, 151.39it/s]\n"
     ]
    }
   ],
   "source": [
    "train = sample_train_gen(raw, chosen_noise, segment_size=segment_size, indices_to_calculate=indices_to_calculate)\n",
    "gc.collect()\n",
    "test = sample_test_gen(chosen_noise)"
   ]
  },
  {
   "cell_type": "code",
   "execution_count": 7,
   "metadata": {},
   "outputs": [
    {
     "name": "stdout",
     "output_type": "stream",
     "text": [
      "<class 'pandas.core.frame.DataFrame'>\n",
      "(4194, 6)\n",
      "<class 'pandas.core.frame.DataFrame'>\n",
      "RangeIndex: 4194 entries, 0 to 4193\n",
      "Data columns (total 6 columns):\n",
      " #   Column                          Non-Null Count  Dtype  \n",
      "---  ------                          --------------  -----  \n",
      " 0   var_num_peaks_2_denoise_simple  4194 non-null   float64\n",
      " 1   var_percentile_roll50_std_20    4194 non-null   float64\n",
      " 2   var_mfcc_mean18                 4194 non-null   float64\n",
      " 3   var_mfcc_mean4                  4194 non-null   float64\n",
      " 4   start                           4194 non-null   float64\n",
      " 5   target                          4194 non-null   float64\n",
      "dtypes: float64(6)\n",
      "memory usage: 196.7 KB\n",
      "None\n",
      "-----------------------\n",
      "<class 'pandas.core.frame.DataFrame'>\n",
      "(2624, 5)\n",
      "<class 'pandas.core.frame.DataFrame'>\n",
      "RangeIndex: 2624 entries, 0 to 2623\n",
      "Data columns (total 5 columns):\n",
      " #   Column                          Non-Null Count  Dtype \n",
      "---  ------                          --------------  ----- \n",
      " 0   var_num_peaks_2_denoise_simple  2624 non-null   object\n",
      " 1   var_percentile_roll50_std_20    2624 non-null   object\n",
      " 2   var_mfcc_mean18                 2624 non-null   object\n",
      " 3   var_mfcc_mean4                  2624 non-null   object\n",
      " 4   seg_id                          2624 non-null   object\n",
      "dtypes: object(5)\n",
      "memory usage: 102.6+ KB\n",
      "None\n"
     ]
    }
   ],
   "source": [
    "print(type(train))\n",
    "print(train.shape)\n",
    "print(train.info())\n",
    "print('-----------------------')\n",
    "print(type(test))\n",
    "print(test.shape)\n",
    "print(test.info())"
   ]
  },
  {
   "cell_type": "markdown",
   "metadata": {},
   "source": [
    "train è un dataframe pandas che contiene 4194 righe. Ciascuna riga riguarda un terremoto sample lungo 150000 (tranne l'ultimo che è un po' più lungo).\n",
    "\n",
    "Per ciascuna riga (corrispondente ad un pezzo del dataset), abbiamo 6 informazioni:\n",
    "\n",
    "1. il numero di picchi di quel pezzo di segnale\n",
    "2. un'info sulla std\n",
    "3. info su mfcc18 media\n",
    "4. info su mfcc4 media\n",
    "5. l'indice di start di quel segnale\n",
    "6. quanto manca al terremoto di quel segnale"
   ]
  },
  {
   "cell_type": "markdown",
   "metadata": {},
   "source": [
    "# Building training dataset"
   ]
  },
  {
   "cell_type": "code",
   "execution_count": 8,
   "metadata": {},
   "outputs": [],
   "source": [
    "etq_meta = [\n",
    "{\"start\":0,         \"end\":5656574},\n",
    "{\"start\":5656574,   \"end\":50085878},\n",
    "{\"start\":50085878,  \"end\":104677356},\n",
    "{\"start\":104677356, \"end\":138772453},\n",
    "{\"start\":138772453, \"end\":187641820},\n",
    "{\"start\":187641820, \"end\":218652630},\n",
    "{\"start\":218652630, \"end\":245829585},\n",
    "{\"start\":245829585, \"end\":307838917},\n",
    "{\"start\":307838917, \"end\":338276287},\n",
    "{\"start\":338276287, \"end\":375377848},\n",
    "{\"start\":375377848, \"end\":419368880},\n",
    "{\"start\":419368880, \"end\":461811623},\n",
    "{\"start\":461811623, \"end\":495800225},\n",
    "{\"start\":495800225, \"end\":528777115},\n",
    "{\"start\":528777115, \"end\":585568144},\n",
    "{\"start\":585568144, \"end\":621985673},\n",
    "{\"start\":621985673, \"end\":629145480},\n",
    "]\n",
    "\n",
    "# i indice da 0 a 16, etq è un dizionario {start: start_i, end: end_i}\n",
    "for i, etq in enumerate(etq_meta):\n",
    "    # fissato un etq in etq_meta, train.loc[condizione] seleziona tutte le righe del df train che soddisfano tale condizione\n",
    "    # inoltre, train.loc[condizione, col] = val imposta i valori della colonna \"col\" delle righe selezionate dalla\n",
    "    # condizione a val. se la colonna col non esiste (come in questo caso \"eq\" viene creata)\n",
    "    # la condizione in questo caso è le righe del df train il cui evento sismico è contenuto nella\n",
    "    # fisata finestra data dal dizionario etq\n",
    "    train.loc[(train['start'] + segment_size >= etq[\"start\"]) & (train['start'] <= etq[\"end\"] - segment_size), \"eq\"] = i\n",
    "\n",
    "# sostanzialmente quello che il ciclo for sopra fa è assegnare ad ogni pezzo di segnale in train, \n",
    "# il terremoto a cui appartiene (creando una nuova colonna eq nel df train che lo specifica con un indice)\n",
    "\n",
    "# viene creato un nuovo dataframe che contiene solo le righe di train appartenenti ai terremoti\n",
    "# numero 2; 7; 0; 4; 11; 13; 9; 1; 14; 10.\n",
    "train_sample = train[train[\"eq\"].isin([2, 7, 0, 4, 11, 13, 9, 1, 14, 10])]\n",
    "    "
   ]
  },
  {
   "cell_type": "code",
   "execution_count": 9,
   "metadata": {},
   "outputs": [
    {
     "name": "stdout",
     "output_type": "stream",
     "text": [
      "<class 'pandas.core.frame.DataFrame'>\n",
      "Index: 2857 entries, 0 to 3902\n",
      "Data columns (total 7 columns):\n",
      " #   Column                          Non-Null Count  Dtype  \n",
      "---  ------                          --------------  -----  \n",
      " 0   var_num_peaks_2_denoise_simple  2857 non-null   float64\n",
      " 1   var_percentile_roll50_std_20    2857 non-null   float64\n",
      " 2   var_mfcc_mean18                 2857 non-null   float64\n",
      " 3   var_mfcc_mean4                  2857 non-null   float64\n",
      " 4   start                           2857 non-null   float64\n",
      " 5   target                          2857 non-null   float64\n",
      " 6   eq                              2857 non-null   float64\n",
      "dtypes: float64(7)\n",
      "memory usage: 178.6 KB\n",
      "None\n",
      "      var_num_peaks_2_denoise_simple  var_percentile_roll50_std_20  \\\n",
      "0                             6210.0                      2.697163   \n",
      "1                             6116.0                      2.701290   \n",
      "2                             6748.0                      2.780605   \n",
      "3                             6259.0                      2.718767   \n",
      "4                             6230.0                      2.718618   \n",
      "...                              ...                           ...   \n",
      "3898                          5705.0                      2.664090   \n",
      "3899                          4202.0                      2.566411   \n",
      "3900                          3718.0                      2.531012   \n",
      "3901                          2477.0                      2.482978   \n",
      "3902                          2775.0                      2.475830   \n",
      "\n",
      "      var_mfcc_mean18  var_mfcc_mean4        start    target    eq  \n",
      "0           -1.766300      -11.365003          0.0  1.430797   0.0  \n",
      "1           -2.468182      -11.021150     150000.0  1.391499   0.0  \n",
      "2           -2.721105      -12.887513     300000.0  1.353196   0.0  \n",
      "3           -2.227491      -11.218822     450000.0  1.313798   0.0  \n",
      "4           -2.787345      -11.593112     600000.0  1.274400   0.0  \n",
      "...               ...             ...          ...       ...   ...  \n",
      "3898        -2.196966       -8.680625  584700000.0  0.186797  14.0  \n",
      "3899        -1.860183       -7.235594  584850000.0  0.147399  14.0  \n",
      "3900        -1.096083       -7.536120  585000000.0  0.109096  14.0  \n",
      "3901        -0.932620       -6.623118  585150000.0  0.069798  14.0  \n",
      "3902        -1.380847       -6.606703  585300000.0  0.030399  14.0  \n",
      "\n",
      "[2857 rows x 7 columns]\n"
     ]
    }
   ],
   "source": [
    "print(train_sample.info())\n",
    "print(train_sample)\n",
    "\n",
    "# ATTENZIONE: nel df train_samples ci sono 2857 righe totali, ma l’indice originale \n",
    "# (cioè i numeri di riga) non è stato reimpostato e quindi non è più continuo\n",
    "# L’indice va da 0 a 3902 ma con dei “buchi” (righe escluse o rimosse).\n",
    "# l’indice delle righe manterrà i valori originali del DataFrame “padre” (in questo caso train)"
   ]
  },
  {
   "cell_type": "code",
   "execution_count": 10,
   "metadata": {},
   "outputs": [
    {
     "name": "stdout",
     "output_type": "stream",
     "text": [
      "Mean:   6.258\n",
      "Median: 6.031\n"
     ]
    }
   ],
   "source": [
    "print(f\"Mean:   {train_sample['target'].mean():.4}\")\n",
    "print(f\"Median: {train_sample['target'].median():.4}\")"
   ]
  },
  {
   "cell_type": "markdown",
   "metadata": {},
   "source": [
    "# Training"
   ]
  },
  {
   "cell_type": "markdown",
   "metadata": {},
   "source": [
    "Implementa un modello di LightGBM con K-Fold Cross-Validation per la predizione di un target numerico (time to failure alla fine di un segnale) e calcola l’errore MAE (Mean Absolute Error)"
   ]
  },
  {
   "cell_type": "code",
   "execution_count": 11,
   "metadata": {},
   "outputs": [],
   "source": [
    "from sklearn.metrics import mean_absolute_error\n",
    "from sklearn.model_selection import KFold\n",
    "from numpy import random\n",
    "import lightgbm as lgb # implementa il modello di LightGBM\n",
    "\n",
    "random.seed(1337) # reproducibility"
   ]
  },
  {
   "cell_type": "code",
   "execution_count": 12,
   "metadata": {},
   "outputs": [],
   "source": [
    "features = ['var_num_peaks_2_denoise_simple','var_percentile_roll50_std_20','var_mfcc_mean4',  'var_mfcc_mean18']\n",
    "\n",
    "train_X = train_sample[features].values\n",
    "target = train_sample[\"target\"].values\n",
    "\n",
    "\n",
    "test_X = test[features].values\n",
    "# del test non conosciamo il target nella competizione kaggle\n"
   ]
  },
  {
   "cell_type": "code",
   "execution_count": 13,
   "metadata": {},
   "outputs": [],
   "source": [
    "submission = pd.read_csv('.../Progetto_Chris/Coding_Chris/sample_submission.csv', index_col='seg_id')\n",
    "# questo file, per ogni segmento, ha all'inzio 0 come submission (cioè time to failure predetto dal modello)\n",
    "# poi viene aggiornato dopo aver trainato il modello facendo previsioni"
   ]
  },
  {
   "cell_type": "code",
   "execution_count": 14,
   "metadata": {},
   "outputs": [],
   "source": [
    "oof = np.zeros(len(train_X)) \n",
    "# previsioni sulle righe del fold di validazione vengono chiamate OOF predictions.\n",
    "# Infatti, durante la k-fold cross validation. I dati vengono divisi in K folds\n",
    "# si addestra il modello su k-1 fold e si valida sul fold rimanente\n",
    "# il processo si ripete per ogni fold, ogni fold viene quindi usata solo una volta\n",
    "# come validazione. per questo oof ha len di train_X\n",
    "# La validazione consiste nel fare previsioni sui dati del fold di validazione e\n",
    "# poi confrontarle con i valori target noti. Alla fine, ottieni delle previsioni per\n",
    "# tutte le righe del dataset di training perché ogni fold è stato usato \n",
    "# una volta per la validazione.\n",
    "\n",
    "prediction = np.zeros(len(submission))"
   ]
  },
  {
   "cell_type": "markdown",
   "metadata": {},
   "source": [
    "Che ci facciamo poi con le OOF predictions? \n",
    "\n",
    "Le OOF predictions vengono confrontate con i valori target per valutare la performance del modello. Questo avviene usando metriche come ad esempio MAE (Mean Absolute Error), RMSE (Root Mean Squared Error), Accuracy, ecc., a seconda del problema.\n",
    "\n",
    "\n",
    "Attenzione: \n",
    "Durante la K-Fold Cross-Validation, per ogni iterazione (diversa suddivisione del dataset), il modello viene addestrato da zero usando i K-1 fold come dati di training.\n",
    "\n",
    "- Il modello non mantiene i pesi dall’iterazione precedente.\n",
    "\n",
    "- Si addestra un nuovo modello a partire da pesi iniziali randomici (o dai pesi iniziali standard del modello).\n",
    "\n",
    "Quindi, durante la K-fold Cross-Validation addestriamo K modelli distinti indipendenti, uno per ogni iterazione. Ogni modello viene allenato su una combinazione diversa di K-1 fold di training. \n",
    "\n",
    "Ma Allora, cosa succede quando dobbiamo fare predizioni sul test set? Quale modello usiamo se ne addestriamo k? Tutti i K modelli vengono utilizzati per predire il test set. Le predizioni di ciascun modello vengono combinate facendo una media. Questa strategia permette di ottenere una predizione finale più robusta rispetto a quella di un singolo modello.\n",
    "\n",
    "---------------------------------------------------\n",
    "\n",
    "Nel codice sotto, la media delle predizioni avviene nel codice:\n",
    "\n",
    "prediction += clf.predict(test_X, num_iteration=clf.best_iteration)\n",
    "\n",
    "Cioè, ad ogni iterazione, il modello clf predice i valori del test set (test_X). Le predizioni vengono poi accumulate (sommate) in prediction. Infatti, Alla fine del ciclo di K-Fold abbiamo:\n",
    "\n",
    "prediction /= n_fold\n",
    "\n"
   ]
  },
  {
   "cell_type": "code",
   "execution_count": 15,
   "metadata": {},
   "outputs": [],
   "source": [
    "n_fold = 3        # 2 per training, 1 validation\n",
    "                  # random_state=1337 for reproducibility\n",
    "kf = KFold(n_splits=n_fold, shuffle=True, random_state=1337)\n",
    "# kf dichiara (non agisce ancora sui dati) in quanti fold dobbiamo dividere\n",
    "# il dataset. e dice come dividerli (shuffle, random state ...) \n",
    "\n",
    "kf = list(kf.split(np.arange(len(train_sample))))\n",
    "# Il metodo split() di KFold prende in input gli indici di tutti i samples nel df di train\n",
    "# Poi, sapendo quante iterazioni dobbiamo fare nell'addestramento (glielo dice KFold)\n",
    "# diventa una lista con la seguente struttura (è una lista di liste):\n",
    "# la dimensione più esterna è n_fold (ossia numero di iterazioni)\n",
    "# dentro n_fold la lunghezza è 2 (cioè divide in indici di train e indici di valid per ogni iterazione)\n",
    "\n",
    "\"\"\"\n",
    "Esempio: \n",
    "\n",
    "Dataset di 9 elementi, quindi gli indici saranno [0, 1, 2, 3, 4, 5, 6, 7, 8]\n",
    "indici shuffled: [5, 2, 8, 0, 1, 6, 7, 4, 3]\n",
    "n_fold = 3\n",
    "\n",
    "allora, kf.split li partiziona in questo modo:\n",
    "\n",
    "Iterazione\tTrain Index\t            Valid Index\n",
    "1\t        [0, 1, 6, 7, 4, 3]\t    [5, 2, 8]\n",
    "2\t        [5, 2, 8, 7, 4, 3]\t    [0, 1, 6]\n",
    "3\t        [5, 2, 8, 0, 1, 6]\t    [7, 4, 3]\n",
    "\"\"\"\n",
    "pass"
   ]
  },
  {
   "cell_type": "code",
   "execution_count": 16,
   "metadata": {},
   "outputs": [
    {
     "name": "stderr",
     "output_type": "stream",
     "text": [
      "Training Fold:   0%|          | 0/3 [00:00<?, ?it/s]"
     ]
    },
    {
     "name": "stdout",
     "output_type": "stream",
     "text": [
      "Iteration: 1/3\n",
      "Training until validation scores don't improve for 1000 rounds\n",
      "[1000]\ttraining's l1: 1.59571\tvalid_1's l1: 2.00247\n"
     ]
    },
    {
     "name": "stderr",
     "output_type": "stream",
     "text": [
      "Training Fold:  33%|███▎      | 1/3 [00:00<00:01,  1.19it/s]"
     ]
    },
    {
     "name": "stdout",
     "output_type": "stream",
     "text": [
      "Early stopping, best iteration is:\n",
      "[723]\ttraining's l1: 1.64166\tvalid_1's l1: 1.97775\n",
      "Iteration: 2/3\n",
      "Training until validation scores don't improve for 1000 rounds\n"
     ]
    },
    {
     "name": "stderr",
     "output_type": "stream",
     "text": [
      "Training Fold:  67%|██████▋   | 2/3 [00:01<00:00,  1.45it/s]"
     ]
    },
    {
     "name": "stdout",
     "output_type": "stream",
     "text": [
      "[1000]\ttraining's l1: 1.64201\tvalid_1's l1: 1.90799\n",
      "Early stopping, best iteration is:\n",
      "[245]\ttraining's l1: 1.83521\tvalid_1's l1: 1.85719\n",
      "Iteration: 3/3\n",
      "Training until validation scores don't improve for 1000 rounds\n",
      "[1000]\ttraining's l1: 1.6403\tvalid_1's l1: 1.95581\n"
     ]
    },
    {
     "name": "stderr",
     "output_type": "stream",
     "text": [
      "Training Fold: 100%|██████████| 3/3 [00:02<00:00,  1.37it/s]"
     ]
    },
    {
     "name": "stdout",
     "output_type": "stream",
     "text": [
      "Early stopping, best iteration is:\n",
      "[570]\ttraining's l1: 1.71908\tvalid_1's l1: 1.94236\n"
     ]
    },
    {
     "name": "stderr",
     "output_type": "stream",
     "text": [
      "\n"
     ]
    }
   ],
   "source": [
    "for fold_n, (train_index, valid_index) in enumerate(tqdm(kf, desc=\"Training Fold\")):\n",
    "    print(f'Iteration: {fold_n+1}/{len(kf)}')\n",
    "\n",
    "    trn_data = lgb.Dataset(train_X[train_index], label=target[train_index])\n",
    "    val_data = lgb.Dataset(train_X[valid_index], label=target[valid_index])\n",
    "    \n",
    "    params = {'num_leaves': 4,\n",
    "      'min_data_in_leaf': 5,\n",
    "      'objective':'fair',       # è un problema di regressione. 'fair' è una funzione obiettivo simile a MAE ma più robusta agli outlier \n",
    "      'max_depth': -1,\n",
    "      'learning_rate': 0.02,\n",
    "      \"boosting\": \"gbdt\",\n",
    "      'boost_from_average': True,\n",
    "      \"feature_fraction\": 0.9,\n",
    "      \"bagging_freq\": 1,\n",
    "      \"bagging_fraction\": 0.5,\n",
    "      \"bagging_seed\": 0,\n",
    "      \"metric\": 'mae',\n",
    "      \"verbosity\": -1,\n",
    "      'max_bin': 500,\n",
    "      'reg_alpha': 0,\n",
    "      'reg_lambda': 0,\n",
    "      'seed': 0,\n",
    "      'n_jobs': -1 # Usa tutti i core disponibili\n",
    "      }\n",
    "    \n",
    "\n",
    "    callbacks = [lgb.early_stopping(stopping_rounds=1000, verbose=True),\n",
    "                 lgb.log_evaluation(period=1000)]  # Stampa i log ogni 500 iterazioni\n",
    "\n",
    "\n",
    "    clf = lgb.train(params, trn_data, num_boost_round=1000000, valid_sets = [trn_data, val_data], callbacks=callbacks)\n",
    "\n",
    "    oof[valid_index] += clf.predict(train_X[valid_index], num_iteration=clf.best_iteration)\n",
    "    prediction += clf.predict(test_X, num_iteration=clf.best_iteration)\n",
    "\n",
    "prediction /= n_fold\n",
    "\n"
   ]
  },
  {
   "cell_type": "code",
   "execution_count": 17,
   "metadata": {},
   "outputs": [
    {
     "name": "stdout",
     "output_type": "stream",
     "text": [
      "\n",
      "MAE:  1.9257838730473038\n"
     ]
    }
   ],
   "source": [
    "print('\\nMAE: ', mean_absolute_error(target, oof))"
   ]
  },
  {
   "cell_type": "code",
   "execution_count": 18,
   "metadata": {},
   "outputs": [
    {
     "name": "stdout",
     "output_type": "stream",
     "text": [
      "            time_to_failure\n",
      "seg_id                     \n",
      "seg_00030f         4.072756\n",
      "seg_0012b5         5.810596\n",
      "seg_00184e         7.283951\n",
      "seg_003339        10.577462\n",
      "seg_0042cc         7.867414\n"
     ]
    }
   ],
   "source": [
    "submission['time_to_failure'] = prediction \n",
    "print(submission.head())\n",
    "submission.to_csv('submission.csv')"
   ]
  }
 ],
 "metadata": {
  "kernelspec": {
   "display_name": "venv",
   "language": "python",
   "name": "python3"
  },
  "language_info": {
   "codemirror_mode": {
    "name": "ipython",
    "version": 3
   },
   "file_extension": ".py",
   "mimetype": "text/x-python",
   "name": "python",
   "nbconvert_exporter": "python",
   "pygments_lexer": "ipython3",
   "version": "3.12.4"
  }
 },
 "nbformat": 4,
 "nbformat_minor": 1
}
